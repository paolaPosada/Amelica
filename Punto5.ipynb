{
  "nbformat": 4,
  "nbformat_minor": 0,
  "metadata": {
    "colab": {
      "name": "Punto5.ipynb",
      "provenance": [],
      "collapsed_sections": [],
      "toc_visible": true,
      "include_colab_link": true
    },
    "kernelspec": {
      "display_name": "Python 3",
      "name": "python3"
    },
    "language_info": {
      "name": "python"
    }
  },
  "cells": [
    {
      "cell_type": "markdown",
      "metadata": {
        "id": "view-in-github",
        "colab_type": "text"
      },
      "source": [
        "<a href=\"https://colab.research.google.com/github/paolaPosada/Amelica/blob/master/Punto5.ipynb\" target=\"_parent\"><img src=\"https://colab.research.google.com/assets/colab-badge.svg\" alt=\"Open In Colab\"/></a>"
      ]
    },
    {
      "cell_type": "code",
      "metadata": {
        "id": "Mb-G09sqNNjw"
      },
      "source": [
        "!pip install scikit-plot"
      ],
      "execution_count": null,
      "outputs": []
    },
    {
      "cell_type": "code",
      "metadata": {
        "id": "KOQUTzT3TItx"
      },
      "source": [
        "import matplotlib.pyplot as plt\n",
        "import pandas as pd\n",
        "from sklearn.model_selection import train_test_split\n",
        "from sklearn.ensemble import RandomForestClassifier\n",
        "import numpy as np\n",
        "from sklearn.metrics import confusion_matrix\n",
        "from sklearn.svm import SVC\n",
        "from sklearn import svm\n",
        "import scikitplot as skplt"
      ],
      "execution_count": 13,
      "outputs": []
    },
    {
      "cell_type": "markdown",
      "metadata": {
        "id": "e6O04Qjm-FAl"
      },
      "source": [
        "## **1.** Cargar la base de datos usando la libreria pandas (Python). \n",
        "Considere la  ultima columna de\n",
        "la base de datos como el vector de clases o etiquetas."
      ]
    },
    {
      "cell_type": "code",
      "metadata": {
        "id": "hVRI4JJFkjml",
        "colab": {
          "base_uri": "https://localhost:8080/",
          "height": 204
        },
        "outputId": "4eae4fa6-b8a8-4c6b-fa82-84fbf09a47bb"
      },
      "source": [
        "db = pd.read_csv('/content/HTRU_2.csv')\n",
        "y = db[[\"CLASS\"]]\n",
        "x = db.loc[:,db.columns!=\"CLASS\"]\n",
        "\n",
        "db.head()"
      ],
      "execution_count": 4,
      "outputs": [
        {
          "output_type": "execute_result",
          "data": {
            "text/html": [
              "<div>\n",
              "<style scoped>\n",
              "    .dataframe tbody tr th:only-of-type {\n",
              "        vertical-align: middle;\n",
              "    }\n",
              "\n",
              "    .dataframe tbody tr th {\n",
              "        vertical-align: top;\n",
              "    }\n",
              "\n",
              "    .dataframe thead th {\n",
              "        text-align: right;\n",
              "    }\n",
              "</style>\n",
              "<table border=\"1\" class=\"dataframe\">\n",
              "  <thead>\n",
              "    <tr style=\"text-align: right;\">\n",
              "      <th></th>\n",
              "      <th>MEAN</th>\n",
              "      <th>STDEV</th>\n",
              "      <th>SKEWNESS</th>\n",
              "      <th>KURTOSIS</th>\n",
              "      <th>MEANDM</th>\n",
              "      <th>DMSTDEV</th>\n",
              "      <th>DMSKEWNESS</th>\n",
              "      <th>DMKURTOSIS</th>\n",
              "      <th>CLASS</th>\n",
              "    </tr>\n",
              "  </thead>\n",
              "  <tbody>\n",
              "    <tr>\n",
              "      <th>0</th>\n",
              "      <td>140.562500</td>\n",
              "      <td>55.683782</td>\n",
              "      <td>-0.234571</td>\n",
              "      <td>-0.699648</td>\n",
              "      <td>3.199833</td>\n",
              "      <td>19.110426</td>\n",
              "      <td>7.975532</td>\n",
              "      <td>74.242225</td>\n",
              "      <td>0</td>\n",
              "    </tr>\n",
              "    <tr>\n",
              "      <th>1</th>\n",
              "      <td>102.507812</td>\n",
              "      <td>58.882430</td>\n",
              "      <td>0.465318</td>\n",
              "      <td>-0.515088</td>\n",
              "      <td>1.677258</td>\n",
              "      <td>14.860146</td>\n",
              "      <td>10.576487</td>\n",
              "      <td>127.393580</td>\n",
              "      <td>0</td>\n",
              "    </tr>\n",
              "    <tr>\n",
              "      <th>2</th>\n",
              "      <td>103.015625</td>\n",
              "      <td>39.341649</td>\n",
              "      <td>0.323328</td>\n",
              "      <td>1.051164</td>\n",
              "      <td>3.121237</td>\n",
              "      <td>21.744669</td>\n",
              "      <td>7.735822</td>\n",
              "      <td>63.171909</td>\n",
              "      <td>0</td>\n",
              "    </tr>\n",
              "    <tr>\n",
              "      <th>3</th>\n",
              "      <td>136.750000</td>\n",
              "      <td>57.178449</td>\n",
              "      <td>-0.068415</td>\n",
              "      <td>-0.636238</td>\n",
              "      <td>3.642977</td>\n",
              "      <td>20.959280</td>\n",
              "      <td>6.896499</td>\n",
              "      <td>53.593661</td>\n",
              "      <td>0</td>\n",
              "    </tr>\n",
              "    <tr>\n",
              "      <th>4</th>\n",
              "      <td>88.726562</td>\n",
              "      <td>40.672225</td>\n",
              "      <td>0.600866</td>\n",
              "      <td>1.123492</td>\n",
              "      <td>1.178930</td>\n",
              "      <td>11.468720</td>\n",
              "      <td>14.269573</td>\n",
              "      <td>252.567306</td>\n",
              "      <td>0</td>\n",
              "    </tr>\n",
              "  </tbody>\n",
              "</table>\n",
              "</div>"
            ],
            "text/plain": [
              "         MEAN      STDEV  SKEWNESS  ...  DMSKEWNESS  DMKURTOSIS  CLASS\n",
              "0  140.562500  55.683782 -0.234571  ...    7.975532   74.242225      0\n",
              "1  102.507812  58.882430  0.465318  ...   10.576487  127.393580      0\n",
              "2  103.015625  39.341649  0.323328  ...    7.735822   63.171909      0\n",
              "3  136.750000  57.178449 -0.068415  ...    6.896499   53.593661      0\n",
              "4   88.726562  40.672225  0.600866  ...   14.269573  252.567306      0\n",
              "\n",
              "[5 rows x 9 columns]"
            ]
          },
          "metadata": {
            "tags": []
          },
          "execution_count": 4
        }
      ]
    },
    {
      "cell_type": "markdown",
      "metadata": {
        "id": "idPM0qzd-eFe"
      },
      "source": [
        "## **2.** Usar la funcion train test split \n",
        "Separar 70 % como datos de entrenamiento y 30 % como datos de validacion y prueba."
      ]
    },
    {
      "cell_type": "code",
      "metadata": {
        "id": "PJ57Ba9PtIyM"
      },
      "source": [
        "x_train, x_test, y_train, y_test = train_test_split(x, y, train_size=0.7, test_size=0.3)"
      ],
      "execution_count": 5,
      "outputs": []
    },
    {
      "cell_type": "markdown",
      "metadata": {
        "id": "hY5LN_tCmuPY"
      },
      "source": [
        "## **3.** Utilice los datos de entrenamiento para crear el modelo de clasificacion\n",
        "(puede utilizar cualquier algoritmo de clasificacion de la librerıa scikit-learn).\n",
        "\n",
        "Random Forest\n"
      ]
    },
    {
      "cell_type": "code",
      "metadata": {
        "id": "a2_RP4uHDCfA"
      },
      "source": [
        "rf=RandomForestClassifier()\n",
        "rf_fit = rf.fit(x_train,y_train)\n",
        "rf_predict = rf_fit.predict(x_test)"
      ],
      "execution_count": null,
      "outputs": []
    },
    {
      "cell_type": "markdown",
      "metadata": {
        "id": "GRhgDNhh-96u"
      },
      "source": [
        "## **4.** Utilice los datos de prueba para validar el desempeño del modelo.\n",
        "Se recomienda investigar diferentes metricas para analizar el desempeño del modelo."
      ]
    },
    {
      "cell_type": "markdown",
      "metadata": {
        "id": "siavxuVwH8QO"
      },
      "source": [
        "Usando Score\n",
        "Retorna el promedio de la exactitud de los datos"
      ]
    },
    {
      "cell_type": "code",
      "metadata": {
        "colab": {
          "base_uri": "https://localhost:8080/",
          "height": 0
        },
        "id": "gZS-wGI4GPtX",
        "outputId": "089a9e7b-d097-47fc-fcf2-66e970fe1cb9"
      },
      "source": [
        "scoreRf=rf_fit.score(x_test,y_test)\n",
        "scoreRf"
      ],
      "execution_count": 9,
      "outputs": [
        {
          "output_type": "execute_result",
          "data": {
            "text/plain": [
              "0.9798882681564246"
            ]
          },
          "metadata": {
            "tags": []
          },
          "execution_count": 9
        }
      ]
    },
    {
      "cell_type": "code",
      "metadata": {
        "colab": {
          "base_uri": "https://localhost:8080/"
        },
        "id": "OeXfiYIWZLuY",
        "outputId": "0cf62df4-ef75-4682-9fb6-1dd400f360f9"
      },
      "source": [
        "print(\"El score de exactitud para este modelo es de \"+str(scoreRf)\n",
        "+\" siendo un número cercano a 1 podemos concluir que es un buen modelo.\")"
      ],
      "execution_count": 24,
      "outputs": [
        {
          "output_type": "stream",
          "text": [
            "El score de exactitud para este modelo es de 0.9798882681564246 siendo un número cercano a 1 podemos concluir que es un buen modelo.\n"
          ],
          "name": "stdout"
        }
      ]
    },
    {
      "cell_type": "markdown",
      "metadata": {
        "id": "9v_cxs77IUsh"
      },
      "source": [
        "Usando Confusion matrix\n"
      ]
    },
    {
      "cell_type": "code",
      "metadata": {
        "colab": {
          "base_uri": "https://localhost:8080/",
          "height": 312
        },
        "id": "WQZCNNJY_oh8",
        "outputId": "0b7c68e0-7b6a-4c4d-85a6-efed71afa42b"
      },
      "source": [
        "skplt.metrics.plot_confusion_matrix(y_test,rf_predict, normalize='true')"
      ],
      "execution_count": 11,
      "outputs": [
        {
          "output_type": "execute_result",
          "data": {
            "text/plain": [
              "<matplotlib.axes._subplots.AxesSubplot at 0x7f0c2b0ebf10>"
            ]
          },
          "metadata": {
            "tags": []
          },
          "execution_count": 11
        },
        {
          "output_type": "display_data",
          "data": {
            "image/png": "[encoded data removed]",
            "text/plain": [
              "<Figure size 432x288 with 2 Axes>"
            ]
          },
          "metadata": {
            "tags": [],
            "needs_background": "light"
          }
        }
      ]
    },
    {
      "cell_type": "code",
      "metadata": {
        "id": "nFoyeIj7H7WX"
      },
      "source": [
        "rf_Cmatrix = confusion_matrix(y_test, rf_predict)\n",
        "rf_CmatrixN= rf_Cmatrix.astype('float') / rf_Cmatrix.sum(axis=1)[:, np.newaxis]"
      ],
      "execution_count": 25,
      "outputs": []
    },
    {
      "cell_type": "markdown",
      "metadata": {
        "id": "LbKvUFvj_Lvo"
      },
      "source": [
        "## **5.** Registre los resultados de la simulacion junto con el respectivo analisis."
      ]
    },
    {
      "cell_type": "code",
      "metadata": {
        "colab": {
          "base_uri": "https://localhost:8080/"
        },
        "id": "UmsjizoAQrLp",
        "outputId": "1b3e15df-984e-42ba-8eaa-b3b89efc6590"
      },
      "source": [
        "print(\"De los \"+ str(rf_Cmatrix[0,0]+rf_Cmatrix[0,1]) +\n",
        "      \" datos clasificados como 0, el modelo clasificó correctamente al \"+ \n",
        "      str(round(rf_CmatrixN[0,0] *100))+\"%\")\n",
        "print(\"y para la clase 1 con \"+ \n",
        "      str(rf_Cmatrix[1,0]+rf_Cmatrix[1,1]) +\n",
        "      \" datos el módelo clasifico correctamente \"+\n",
        "      str(round(rf_CmatrixN[1,1] *100))+\"% de ellos\")"
      ],
      "execution_count": 26,
      "outputs": [
        {
          "output_type": "stream",
          "text": [
            "De los 4861 datos clasificados como 0, el modelo clasificó correctamente al 99%\n",
            "y para la clase 1 con 509 datos el módelo clasifico correctamente 85% de ellos\n"
          ],
          "name": "stdout"
        }
      ]
    },
    {
      "cell_type": "markdown",
      "metadata": {
        "id": "i1pi8hy-_a3H"
      },
      "source": [
        "## **6.** Utilice otro algoritmo de clasificacion distinto al anterior.\n",
        "\n",
        "\n"
      ]
    },
    {
      "cell_type": "markdown",
      "metadata": {
        "id": "m4eeaG9yNxtW"
      },
      "source": [
        "Support Vector Machines"
      ]
    },
    {
      "cell_type": "code",
      "metadata": {
        "id": "s3FBSQuKV48a"
      },
      "source": [
        "clf = svm.SVC()\n",
        "svm_fit = clf.fit(x_train, y_train)\n",
        "svm_predict = svm_fit.predict(x_test)"
      ],
      "execution_count": null,
      "outputs": []
    },
    {
      "cell_type": "markdown",
      "metadata": {
        "id": "n6UYq04gXQE2"
      },
      "source": [
        "Usando Score\n"
      ]
    },
    {
      "cell_type": "code",
      "metadata": {
        "colab": {
          "base_uri": "https://localhost:8080/",
          "height": 0
        },
        "id": "s_e4kxAkXVNU",
        "outputId": "917b84c7-a0f1-43b2-f96c-2b5113856093"
      },
      "source": [
        "scoreSVM=svm_fit.score(x_test,y_test)\n",
        "scoreSVM"
      ],
      "execution_count": 18,
      "outputs": [
        {
          "output_type": "execute_result",
          "data": {
            "text/plain": [
              "0.9711359404096834"
            ]
          },
          "metadata": {
            "tags": []
          },
          "execution_count": 18
        }
      ]
    },
    {
      "cell_type": "code",
      "metadata": {
        "colab": {
          "base_uri": "https://localhost:8080/",
          "height": 0
        },
        "id": "kvtPN6NEZBFh",
        "outputId": "5f153ea6-9a00-40f9-b3a3-0708e58779bd"
      },
      "source": [
        "print(\"El score de exactitud para este modelo es de \"+str(scoreSVM)\n",
        "+\" siendo un número cercano a 1 podemos concluir que es un buen modelo.\")"
      ],
      "execution_count": 19,
      "outputs": [
        {
          "output_type": "stream",
          "text": [
            "El score de exactitud para este modelo es de 0.9711359404096834 siendo un número cercano a 1 podemos concluir que es un buen modelo.\n"
          ],
          "name": "stdout"
        }
      ]
    },
    {
      "cell_type": "markdown",
      "metadata": {
        "id": "6GmXACnEXVNX"
      },
      "source": [
        "Usando Confusion matrix\n"
      ]
    },
    {
      "cell_type": "code",
      "metadata": {
        "colab": {
          "base_uri": "https://localhost:8080/",
          "height": 312
        },
        "id": "Pf_eJQTsJVV-",
        "outputId": "58ba6e6e-e075-4c1e-a123-cdedfe11efce"
      },
      "source": [
        "skplt.metrics.plot_confusion_matrix(y_test, svm_predict, normalize='true')"
      ],
      "execution_count": 20,
      "outputs": [
        {
          "output_type": "execute_result",
          "data": {
            "text/plain": [
              "<matplotlib.axes._subplots.AxesSubplot at 0x7f0c2a2dd250>"
            ]
          },
          "metadata": {
            "tags": []
          },
          "execution_count": 20
        },
        {
          "output_type": "display_data",
          "data": {
            "image/png": "[encoded data removed]",
            "text/plain": [
              "<Figure size 432x288 with 2 Axes>"
            ]
          },
          "metadata": {
            "tags": [],
            "needs_background": "light"
          }
        }
      ]
    },
    {
      "cell_type": "code",
      "metadata": {
        "id": "j43qhDYtXVNX"
      },
      "source": [
        "svm_Cmatrix = confusion_matrix(y_test, svm_predict)\n",
        "svm_CmatrixN= svm_Cmatrix.astype('float') / svm_Cmatrix.sum(axis=1)[:, np.newaxis]"
      ],
      "execution_count": 21,
      "outputs": []
    },
    {
      "cell_type": "code",
      "metadata": {
        "colab": {
          "base_uri": "https://localhost:8080/",
          "height": 0
        },
        "id": "tNZy_YTFXVNd",
        "outputId": "208b95e9-f4ad-4073-9806-8cff833d8d63"
      },
      "source": [
        "print(\"De los \"+ str(svm_Cmatrix[0,0]+svm_Cmatrix[0,1]) +\n",
        "      \" datos clasificados como 0, el modelo clasificó correctamente al \"+ \n",
        "      str(round(svm_CmatrixN[0,0] *100))+\"%\")\n",
        "print(\"para la clase 1 con \"+ \n",
        "      str(svm_Cmatrix[1,0]+svm_Cmatrix[1,1]) +\n",
        "      \" datos el módelo clasifico correctamente \"+\n",
        "      str(round(svm_CmatrixN[1,1] *100))+\"% de ellos\")"
      ],
      "execution_count": 22,
      "outputs": [
        {
          "output_type": "stream",
          "text": [
            "De los 4861 datos clasificados como 0, el modelo clasificó correctamente al 100%\n",
            "para la clase 1 con 509 datos el módelo clasifico correctamente 73% de ellos\n"
          ],
          "name": "stdout"
        }
      ]
    },
    {
      "cell_type": "markdown",
      "metadata": {
        "id": "AdosK89PaCob"
      },
      "source": [
        "## **7.** Compare los resultados de ambas simulaciones\n",
        "*   Mejoro el desempeño del modelo? \n",
        "*   Es necesario hacer ajuste en los valores de los parametros o las condiciones del modelo?\n"
      ]
    },
    {
      "cell_type": "markdown",
      "metadata": {
        "id": "Cfsb32ZRfLWR"
      },
      "source": [
        "Luego de 4 simulaciones para cada modelo se puede seleccionar como mejor modelo el **Random Forest**, ya que mediante la matriz de confusion se puede concluir que de los datos que hacen parte de la **clase 0**, el modelo clasifico correctamente **99.36%** de los datos (aprox.) y de los datos que hacen parte de la **clase 1** el modelo clasifico correctamente el **85.28%** de los datos (aprox.); ademas de que su  **Score** de exactitud estuvo aproximadamente en **0.9810055865921787** lo que indica que es un buen modelo por su cercania al 1.\n",
        "Por otra parte el modelo de **Support Vector Machines** permitió concluir mediante la matriz de confusion que de los datos que hacen parte de la **clase 0**, el modelo clasifico correctamente **99.8%** de los datos y de los datos que hacen parte de la **clase 1** el modelo clasifico correctamente el **75.8%** de los datos, en todas las 4 simulaciones arrojo los mismos resultados, su **Score** tambien indica que es un buen modelo ya que es **0.9770949720670391**.\n",
        "Basados en la cantidad de clasificaciones correctas que realizo el modelo se elige como mejor modelo el Random Forest; este mejoro con el entrenamiento, mientras que el otro no.\n"
      ]
    },
    {
      "cell_type": "code",
      "metadata": {
        "colab": {
          "base_uri": "https://localhost:8080/",
          "height": 330
        },
        "id": "fP445N1mh_To",
        "outputId": "49641677-145b-4d3c-96e2-b572055594ba"
      },
      "source": [
        "import seaborn as sns\n",
        "\n",
        "sns.countplot(x='CLASS', data=db)\n",
        "print(db['CLASS'].value_counts())"
      ],
      "execution_count": 23,
      "outputs": [
        {
          "output_type": "stream",
          "text": [
            "0    16259\n",
            "1     1639\n",
            "Name: CLASS, dtype: int64\n"
          ],
          "name": "stdout"
        },
        {
          "output_type": "display_data",
          "data": {
            "image/png": "[encoded data removed]",
            "text/plain": [
              "<Figure size 432x288 with 1 Axes>"
            ]
          },
          "metadata": {
            "tags": [],
            "needs_background": "light"
          }
        }
      ]
    },
    {
      "cell_type": "markdown",
      "metadata": {
        "id": "KgJv1ORMhopi"
      },
      "source": [
        "Como podemos ver en la grafica anterior las clases estan extremadamente desbalanceadas, para obtener unos mejores resultados a estas se les debe de aplicar un proceso de balanceo. \n",
        "Como se observo anteriormente siempre el numero de clasificaciones correctas de la clase 0 es mucho mayor que las clasificaciones correctas de la clase 1 y se debe a este debalanceo"
      ]
    }
  ]
}